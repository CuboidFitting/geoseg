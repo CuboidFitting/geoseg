{
 "cells": [
  {
   "cell_type": "markdown",
   "metadata": {},
   "source": [
    "# Simple tutorial for Geoseg \n",
    "### ver= alpha\n",
    "### author= Go-Hiroaki\n",
    "\n",
    "# Overview:\n",
    "\n",
    "## 1. Evaluating with pretrained models\n",
    "### 1.1 Prepared evalution dataset\n",
    "    prepare your dataset refer to utlis/dataset.py\n",
    "### 1.2 Download pretrained models\n",
    "    * FCN-32S \n",
    "    * FCN-16s\n",
    "    * FCN-8s\n",
    "    * U-Net\n",
    "    * FPN\n",
    "    * MC-FCN\n",
    "    * BR-Net\n",
    "    After downloading corresponding pretrained models, save them at checkpoints/ .\n",
    "### 1.3 Run evaluation scripts\n",
    "    Run visSingle.py -checkpoints [pretrain-model]\n",
    "    The generate result will show up at result/\n",
    "\n",
    "## 2. Training with provided dataset\n",
    "### 2.1 Download training dataset\n",
    "        Download training dataset from  [!link]       https://drive.google.com/file/d/1boGcJz9TyK9XB4GUhjCHVu8XGtbgjjbi/view?usp=sharing\n",
    "### 2.2 Run training scripts\n",
    "\n",
    "## 3. Training with personal dataset\n",
    "### 3.1 Prepare dataset\n",
    "### 3.2 Prepare loading dataset \n",
    "### 3.2 Run training scripts\n",
    "\n"
   ]
  },
  {
   "cell_type": "code",
   "execution_count": 10,
   "metadata": {
    "scrolled": true
   },
   "outputs": [
    {
     "name": "stdout",
     "output_type": "stream",
     "text": [
      "BR-Net.py    FCNs.py       MC-FCN.py     ResUNet.py    visSingleComparison.py\r\n",
      "cGAN.py      FPN.py        \u001b[0m\u001b[01;34mmodels\u001b[0m/       run-model.sh  visSingle.py\r\n",
      "\u001b[01;34mcheckpoint\u001b[0m/  How-to.ipynb  \u001b[01;34m__pycache__\u001b[0m/  SegNet.py\r\n",
      "config.py    __init__.py   README.md     UNet.py\r\n",
      "\u001b[01;34mdataset\u001b[0m/     \u001b[01;34mlogs\u001b[0m/         \u001b[01;34mresult\u001b[0m/       \u001b[01;34mutils\u001b[0m/\r\n"
     ]
    }
   ],
   "source": [
    "ls"
   ]
  },
  {
   "cell_type": "markdown",
   "metadata": {},
   "source": [
    "# step 1. Download training dataset and place it at dataset/\n",
    "> from https://drive.google.com/file/d/1boGcJz9TyK9XB4GUhjCHVu8XGtbgjjbi/view?usp=sharing\n",
    "\n",
    "\n",
    "# step 2."
   ]
  },
  {
   "cell_type": "code",
   "execution_count": null,
   "metadata": {},
   "outputs": [],
   "source": [
    "Step"
   ]
  }
 ],
 "metadata": {
  "kernelspec": {
   "display_name": "Python [default]",
   "language": "python",
   "name": "python3"
  },
  "language_info": {
   "codemirror_mode": {
    "name": "ipython",
    "version": 3
   },
   "file_extension": ".py",
   "mimetype": "text/x-python",
   "name": "python",
   "nbconvert_exporter": "python",
   "pygments_lexer": "ipython3",
   "version": "3.5.5"
  }
 },
 "nbformat": 4,
 "nbformat_minor": 2
}
